{
  "nbformat": 4,
  "nbformat_minor": 0,
  "metadata": {
    "colab": {
      "provenance": []
    },
    "kernelspec": {
      "name": "python3",
      "display_name": "Python 3"
    },
    "language_info": {
      "name": "python"
    }
  },
  "cells": [
    {
      "cell_type": "code",
      "execution_count": 4,
      "metadata": {
        "colab": {
          "base_uri": "https://localhost:8080/"
        },
        "id": "s-bPRUwRGPhp",
        "outputId": "48149cea-4432-4fbd-dd45-d6e12a0e45fe"
      },
      "outputs": [
        {
          "output_type": "stream",
          "name": "stdout",
          "text": [
            "Original Array:\n",
            " [[ 6 93  9]\n",
            " [34 34 24]\n",
            " [10 16 67]]\n",
            "Transposed Array:\n",
            " [[ 6 34 10]\n",
            " [93 34 16]\n",
            " [ 9 24 67]]\n"
          ]
        }
      ],
      "source": [
        "#1. Create a 3x3 NumPy array with random integers between 1 and 100. Then, interchange its rows and columns.\n",
        "import numpy as np\n",
        "\n",
        "# Answer 1\n",
        "array_3x3 = np.random.randint(1, 101, size=(3, 3))\n",
        "print(\"Original Array:\\n\", array_3x3)\n",
        "print(\"Transposed Array:\\n\", array_3x3.T)"
      ]
    },
    {
      "cell_type": "code",
      "source": [
        "#2. Generate a 1D NumPy array with 10 elements. Reshape it into a 2x5 array, then into a 5x2 array.\n",
        "import numpy as np\n",
        "\n",
        "# Answer 2\n",
        "array_1d = np.arange(10)\n",
        "reshaped_2x5 = array_1d.reshape(2, 5)\n",
        "reshaped_5x2 = array_1d.reshape(5, 2)\n",
        "print(\"2x5 Array:\\n\", reshaped_2x5)\n",
        "print(\"5x2 Array:\\n\", reshaped_5x2)"
      ],
      "metadata": {
        "colab": {
          "base_uri": "https://localhost:8080/"
        },
        "id": "KAK9LjjqGRPf",
        "outputId": "36b0a990-1238-4073-cde9-90307a89ada3"
      },
      "execution_count": 3,
      "outputs": [
        {
          "output_type": "stream",
          "name": "stdout",
          "text": [
            "2x5 Array:\n",
            " [[0 1 2 3 4]\n",
            " [5 6 7 8 9]]\n",
            "5x2 Array:\n",
            " [[0 1]\n",
            " [2 3]\n",
            " [4 5]\n",
            " [6 7]\n",
            " [8 9]]\n"
          ]
        }
      ]
    },
    {
      "cell_type": "code",
      "source": [
        "#3. Create a 4x4 NumPy array with random float values. Add a border of zeros around it, resulting in a 6x6 array.\n",
        "import numpy as np\n",
        "\n",
        "# Answer 3\n",
        "array_4x4 = np.random.random((4, 4))\n",
        "bordered_array = np.pad(array_4x4, pad_width=1, mode='constant', constant_values=0)\n",
        "print(\"Bordered Array:\\n\", bordered_array)"
      ],
      "metadata": {
        "colab": {
          "base_uri": "https://localhost:8080/"
        },
        "id": "bQpiVyMYGhvu",
        "outputId": "0b6ace90-79d9-427c-ef94-2549cfac6f90"
      },
      "execution_count": 5,
      "outputs": [
        {
          "output_type": "stream",
          "name": "stdout",
          "text": [
            "Bordered Array:\n",
            " [[0.         0.         0.         0.         0.         0.        ]\n",
            " [0.         0.10456012 0.91842588 0.68453846 0.73390008 0.        ]\n",
            " [0.         0.47305645 0.6097004  0.05234916 0.78037897 0.        ]\n",
            " [0.         0.30345793 0.55394286 0.76030589 0.80951091 0.        ]\n",
            " [0.         0.48068997 0.59800174 0.51507815 0.4343486  0.        ]\n",
            " [0.         0.         0.         0.         0.         0.        ]]\n"
          ]
        }
      ]
    },
    {
      "cell_type": "code",
      "source": [
        "#4. Using NumPy, create an array of integers from 10 to 60 with a step of 5.\n",
        "\n",
        "# Answer 4\n",
        "array_step = np.arange(10, 61, 5)\n",
        "print(\"Array with Step 5:\\n\", array_step)"
      ],
      "metadata": {
        "colab": {
          "base_uri": "https://localhost:8080/"
        },
        "id": "6uDyEBRgGqa8",
        "outputId": "dfc013ad-8bf6-474d-f18f-7dd60affff22"
      },
      "execution_count": 6,
      "outputs": [
        {
          "output_type": "stream",
          "name": "stdout",
          "text": [
            "Array with Step 5:\n",
            " [10 15 20 25 30 35 40 45 50 55 60]\n"
          ]
        }
      ]
    },
    {
      "cell_type": "code",
      "source": [
        "#5. Create a NumPy array of strings ['python', 'numpy', 'pandas']. Apply different case transformations (uppercase, lowercase, title case, etc.) to each element.\n",
        "\n",
        "# Answer 5\n",
        "strings = np.array(['python', 'numpy', 'pandas'])\n",
        "uppercase = np.char.upper(strings)\n",
        "lowercase = np.char.lower(strings)\n",
        "title_case = np.char.title(strings)\n",
        "print(\"Uppercase:\\n\", uppercase)\n",
        "print(\"Lowercase:\\n\", lowercase)\n",
        "print(\"Title Case:\\n\", title_case)"
      ],
      "metadata": {
        "colab": {
          "base_uri": "https://localhost:8080/"
        },
        "id": "QGcGlzL5GxXY",
        "outputId": "cf2fee93-d9ee-42c2-ce86-b05d8d83279a"
      },
      "execution_count": 7,
      "outputs": [
        {
          "output_type": "stream",
          "name": "stdout",
          "text": [
            "Uppercase:\n",
            " ['PYTHON' 'NUMPY' 'PANDAS']\n",
            "Lowercase:\n",
            " ['python' 'numpy' 'pandas']\n",
            "Title Case:\n",
            " ['Python' 'Numpy' 'Pandas']\n"
          ]
        }
      ]
    },
    {
      "cell_type": "code",
      "source": [
        "#6. Generate a NumPy array of words. Insert a space between each character of every word in the array.\n",
        "\n",
        "# Answer 6\n",
        "words = np.array(['hello', 'world'])\n",
        "spaced_words = np.char.join(' ', np.array(list(words)))\n",
        "print(\"Words with Spaces:\\n\", spaced_words)"
      ],
      "metadata": {
        "colab": {
          "base_uri": "https://localhost:8080/"
        },
        "id": "QJr0gFx-G2yL",
        "outputId": "72466676-c4ba-487e-8da1-a7f7809e80eb"
      },
      "execution_count": 8,
      "outputs": [
        {
          "output_type": "stream",
          "name": "stdout",
          "text": [
            "Words with Spaces:\n",
            " ['h e l l o' 'w o r l d']\n"
          ]
        }
      ]
    },
    {
      "cell_type": "code",
      "source": [
        "#7. Create two 2D NumPy arrays and perform element-wise addition, subtraction, multiplication, and division.\n",
        "\n",
        "# Answer 7\n",
        "array1 = np.array([[1, 2], [3, 4]])\n",
        "array2 = np.array([[5, 6], [7, 8]])\n",
        "addition = array1 + array2\n",
        "subtraction = array1 - array2\n",
        "multiplication = array1 * array2\n",
        "division = array1 / array2\n",
        "print(\"Addition:\\n\", addition)\n",
        "print(\"Subtraction:\\n\", subtraction)\n",
        "print(\"Multiplication:\\n\", multiplication)\n",
        "print(\"Division:\\n\", division)"
      ],
      "metadata": {
        "colab": {
          "base_uri": "https://localhost:8080/"
        },
        "id": "Wp9rVoI4G8DG",
        "outputId": "2d4f2349-48db-4ae7-9fb1-8757ce4ecf25"
      },
      "execution_count": 9,
      "outputs": [
        {
          "output_type": "stream",
          "name": "stdout",
          "text": [
            "Addition:\n",
            " [[ 6  8]\n",
            " [10 12]]\n",
            "Subtraction:\n",
            " [[-4 -4]\n",
            " [-4 -4]]\n",
            "Multiplication:\n",
            " [[ 5 12]\n",
            " [21 32]]\n",
            "Division:\n",
            " [[0.2        0.33333333]\n",
            " [0.42857143 0.5       ]]\n"
          ]
        }
      ]
    },
    {
      "cell_type": "code",
      "source": [
        "#8. Use NumPy to create a 5x5 identity matrix, then extract its diagonal elements.\n",
        "\n",
        "# Answer 8\n",
        "identity_matrix = np.eye(5)\n",
        "diagonal_elements = np.diag(identity_matrix)\n",
        "print(\"Identity Matrix:\\n\", identity_matrix)\n",
        "print(\"Diagonal Elements:\\n\", diagonal_elements)"
      ],
      "metadata": {
        "colab": {
          "base_uri": "https://localhost:8080/"
        },
        "id": "w1kKg6rsHAel",
        "outputId": "5d6ff113-5c05-473f-b54e-cf43e609b92c"
      },
      "execution_count": 10,
      "outputs": [
        {
          "output_type": "stream",
          "name": "stdout",
          "text": [
            "Identity Matrix:\n",
            " [[1. 0. 0. 0. 0.]\n",
            " [0. 1. 0. 0. 0.]\n",
            " [0. 0. 1. 0. 0.]\n",
            " [0. 0. 0. 1. 0.]\n",
            " [0. 0. 0. 0. 1.]]\n",
            "Diagonal Elements:\n",
            " [1. 1. 1. 1. 1.]\n"
          ]
        }
      ]
    },
    {
      "cell_type": "code",
      "source": [
        "#9. Generate a NumPy array of 100 random integers between 0 and 1000. Find and display all prime numbers in this array.\n",
        "from sympy import isprime\n",
        "\n",
        "# Answer 9\n",
        "random_integers = np.random.randint(0, 1000, size=100)\n",
        "primes = [num for num in random_integers if isprime(num)]\n",
        "print(\"Prime Numbers:\\n\", primes)"
      ],
      "metadata": {
        "colab": {
          "base_uri": "https://localhost:8080/"
        },
        "id": "RZcCvwgPHFq0",
        "outputId": "28d3b517-a7c8-4ebc-abf9-f811a55f14a1"
      },
      "execution_count": 11,
      "outputs": [
        {
          "output_type": "stream",
          "name": "stdout",
          "text": [
            "Prime Numbers:\n",
            " [601, 919, 599, 151, 233, 599, 269, 29, 449, 293, 347, 181, 223, 227, 37, 823]\n"
          ]
        }
      ]
    },
    {
      "cell_type": "code",
      "source": [
        "#10. Create a NumPy array representing daily temperatures for a month. Calculate and display the weekly averages.\n",
        "\n",
        "# Answer 10\n",
        "temperatures = np.random.randint(0, 35, size=30)\n",
        "weekly_averages = temperatures.reshape(-1, 6).mean(axis=1)\n",
        "print(\"Weekly Averages:\\n\", weekly_averages)"
      ],
      "metadata": {
        "colab": {
          "base_uri": "https://localhost:8080/"
        },
        "id": "FnLuQF-iHLBQ",
        "outputId": "6e3a263c-d2f0-4572-9d7d-4698d6b9ed31"
      },
      "execution_count": 13,
      "outputs": [
        {
          "output_type": "stream",
          "name": "stdout",
          "text": [
            "Weekly Averages:\n",
            " [21.5        22.         12.5        20.83333333 18.5       ]\n"
          ]
        }
      ]
    }
  ]
}